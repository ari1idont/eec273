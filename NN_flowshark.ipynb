{
 "cells": [
  {
   "cell_type": "code",
   "execution_count": 1,
   "metadata": {},
   "outputs": [],
   "source": [
    "import numpy as np\n",
    "import pandas as pd\n",
    "from sklearn.model_selection import train_test_split\n",
    "from sklearn.neural_network import MLPRegressor\n",
    "from sklearn.preprocessing import StandardScaler\n"
   ]
  },
  {
   "cell_type": "code",
   "execution_count": 2,
   "metadata": {},
   "outputs": [
    {
     "name": "stderr",
     "output_type": "stream",
     "text": [
      "C:\\Users\\arind\\AppData\\Local\\Temp\\ipykernel_11552\\1635037348.py:1: DtypeWarning: Columns (2,3) have mixed types. Specify dtype option on import or set low_memory=False.\n",
      "  df1=pd.read_csv('pkt8_data.csv')\n"
     ]
    }
   ],
   "source": [
    "df1=pd.read_csv('pkt8_data.csv')"
   ]
  },
  {
   "cell_type": "code",
   "execution_count": 3,
   "metadata": {},
   "outputs": [
    {
     "data": {
      "text/html": [
       "<div>\n",
       "<style scoped>\n",
       "    .dataframe tbody tr th:only-of-type {\n",
       "        vertical-align: middle;\n",
       "    }\n",
       "\n",
       "    .dataframe tbody tr th {\n",
       "        vertical-align: top;\n",
       "    }\n",
       "\n",
       "    .dataframe thead th {\n",
       "        text-align: right;\n",
       "    }\n",
       "</style>\n",
       "<table border=\"1\" class=\"dataframe\">\n",
       "  <thead>\n",
       "    <tr style=\"text-align: right;\">\n",
       "      <th></th>\n",
       "      <th>No.</th>\n",
       "      <th>Time</th>\n",
       "      <th>Source</th>\n",
       "      <th>Destination</th>\n",
       "      <th>Protocol</th>\n",
       "      <th>Length</th>\n",
       "      <th>Info</th>\n",
       "      <th>RT</th>\n",
       "    </tr>\n",
       "  </thead>\n",
       "  <tbody>\n",
       "    <tr>\n",
       "      <th>0</th>\n",
       "      <td>1</td>\n",
       "      <td>0.000000</td>\n",
       "      <td>1803.0</td>\n",
       "      <td>445.0</td>\n",
       "      <td>TCP</td>\n",
       "      <td>64</td>\n",
       "      <td>1803  &gt;  445 [ACK] Seq=1 Ack=1 Win=65535 Len=0</td>\n",
       "      <td>CS0</td>\n",
       "    </tr>\n",
       "    <tr>\n",
       "      <th>1</th>\n",
       "      <td>2</td>\n",
       "      <td>0.000514</td>\n",
       "      <td>1687.0</td>\n",
       "      <td>443.0</td>\n",
       "      <td>UDP</td>\n",
       "      <td>139</td>\n",
       "      <td>1687  &gt;  443 Len=50</td>\n",
       "      <td>CS0</td>\n",
       "    </tr>\n",
       "    <tr>\n",
       "      <th>2</th>\n",
       "      <td>3</td>\n",
       "      <td>0.000656</td>\n",
       "      <td>1803.0</td>\n",
       "      <td>445.0</td>\n",
       "      <td>TCP</td>\n",
       "      <td>64</td>\n",
       "      <td>1803  &gt;  445 [ACK] Seq=1 Ack=1861 Win=65535 Len=0</td>\n",
       "      <td>CS0</td>\n",
       "    </tr>\n",
       "    <tr>\n",
       "      <th>3</th>\n",
       "      <td>4</td>\n",
       "      <td>0.000824</td>\n",
       "      <td>1687.0</td>\n",
       "      <td>443.0</td>\n",
       "      <td>UDP</td>\n",
       "      <td>203</td>\n",
       "      <td>1687  &gt;  443 Len=50</td>\n",
       "      <td>CS0</td>\n",
       "    </tr>\n",
       "    <tr>\n",
       "      <th>4</th>\n",
       "      <td>5</td>\n",
       "      <td>0.000965</td>\n",
       "      <td>1803.0</td>\n",
       "      <td>445.0</td>\n",
       "      <td>NBSS</td>\n",
       "      <td>121</td>\n",
       "      <td>NBSS Continuation Message</td>\n",
       "      <td>CS0</td>\n",
       "    </tr>\n",
       "  </tbody>\n",
       "</table>\n",
       "</div>"
      ],
      "text/plain": [
       "   No.      Time  Source Destination Protocol  Length  \\\n",
       "0    1  0.000000  1803.0       445.0      TCP      64   \n",
       "1    2  0.000514  1687.0       443.0      UDP     139   \n",
       "2    3  0.000656  1803.0       445.0      TCP      64   \n",
       "3    4  0.000824  1687.0       443.0      UDP     203   \n",
       "4    5  0.000965  1803.0       445.0     NBSS     121   \n",
       "\n",
       "                                                Info   RT  \n",
       "0     1803  >  445 [ACK] Seq=1 Ack=1 Win=65535 Len=0  CS0  \n",
       "1                                1687  >  443 Len=50  CS0  \n",
       "2  1803  >  445 [ACK] Seq=1 Ack=1861 Win=65535 Len=0  CS0  \n",
       "3                                1687  >  443 Len=50  CS0  \n",
       "4                          NBSS Continuation Message  CS0  "
      ]
     },
     "execution_count": 3,
     "metadata": {},
     "output_type": "execute_result"
    }
   ],
   "source": [
    "df1.head()"
   ]
  },
  {
   "cell_type": "code",
   "execution_count": 4,
   "metadata": {},
   "outputs": [
    {
     "data": {
      "text/html": [
       "<div>\n",
       "<style scoped>\n",
       "    .dataframe tbody tr th:only-of-type {\n",
       "        vertical-align: middle;\n",
       "    }\n",
       "\n",
       "    .dataframe tbody tr th {\n",
       "        vertical-align: top;\n",
       "    }\n",
       "\n",
       "    .dataframe thead th {\n",
       "        text-align: right;\n",
       "    }\n",
       "</style>\n",
       "<table border=\"1\" class=\"dataframe\">\n",
       "  <thead>\n",
       "    <tr style=\"text-align: right;\">\n",
       "      <th></th>\n",
       "      <th>No.</th>\n",
       "      <th>Time</th>\n",
       "      <th>Source</th>\n",
       "      <th>Destination</th>\n",
       "      <th>Protocol</th>\n",
       "      <th>Length</th>\n",
       "      <th>Info</th>\n",
       "      <th>RT</th>\n",
       "    </tr>\n",
       "  </thead>\n",
       "  <tbody>\n",
       "    <tr>\n",
       "      <th>989502</th>\n",
       "      <td>989503</td>\n",
       "      <td>233.286529</td>\n",
       "      <td>3389.0</td>\n",
       "      <td>1904.0</td>\n",
       "      <td>SSL</td>\n",
       "      <td>96</td>\n",
       "      <td>Continuation Data</td>\n",
       "      <td>CS0</td>\n",
       "    </tr>\n",
       "    <tr>\n",
       "      <th>989503</th>\n",
       "      <td>989504</td>\n",
       "      <td>233.286698</td>\n",
       "      <td>NaN</td>\n",
       "      <td>NaN</td>\n",
       "      <td>LLC</td>\n",
       "      <td>68</td>\n",
       "      <td>U, func=UI; SNAP, OUI 0x00000C (Cisco Systems,...</td>\n",
       "      <td>NaN</td>\n",
       "    </tr>\n",
       "    <tr>\n",
       "      <th>989504</th>\n",
       "      <td>989505</td>\n",
       "      <td>233.286895</td>\n",
       "      <td>80.0</td>\n",
       "      <td>36939.0</td>\n",
       "      <td>TCP</td>\n",
       "      <td>1518</td>\n",
       "      <td>80  &gt;  36939 [ACK] Seq=1 Ack=308 Win=64240 Len...</td>\n",
       "      <td>CS0</td>\n",
       "    </tr>\n",
       "    <tr>\n",
       "      <th>989505</th>\n",
       "      <td>989506</td>\n",
       "      <td>233.286920</td>\n",
       "      <td>80.0</td>\n",
       "      <td>36939.0</td>\n",
       "      <td>TCP</td>\n",
       "      <td>1518</td>\n",
       "      <td>80  &gt;  36939 [PSH, ACK] Seq=1461 Ack=308 Win=6...</td>\n",
       "      <td>CS0</td>\n",
       "    </tr>\n",
       "    <tr>\n",
       "      <th>989506</th>\n",
       "      <td>989507</td>\n",
       "      <td>233.286941</td>\n",
       "      <td>80.0</td>\n",
       "      <td>36939.0</td>\n",
       "      <td>TCP</td>\n",
       "      <td>1518</td>\n",
       "      <td>80  &gt;  36939 [PSH, ACK] Seq=2921 Ack=308 Win=6...</td>\n",
       "      <td>CS0</td>\n",
       "    </tr>\n",
       "  </tbody>\n",
       "</table>\n",
       "</div>"
      ],
      "text/plain": [
       "           No.        Time  Source Destination Protocol  Length  \\\n",
       "989502  989503  233.286529  3389.0      1904.0      SSL      96   \n",
       "989503  989504  233.286698     NaN         NaN      LLC      68   \n",
       "989504  989505  233.286895    80.0     36939.0      TCP    1518   \n",
       "989505  989506  233.286920    80.0     36939.0      TCP    1518   \n",
       "989506  989507  233.286941    80.0     36939.0      TCP    1518   \n",
       "\n",
       "                                                     Info   RT  \n",
       "989502                                  Continuation Data  CS0  \n",
       "989503  U, func=UI; SNAP, OUI 0x00000C (Cisco Systems,...  NaN  \n",
       "989504  80  >  36939 [ACK] Seq=1 Ack=308 Win=64240 Len...  CS0  \n",
       "989505  80  >  36939 [PSH, ACK] Seq=1461 Ack=308 Win=6...  CS0  \n",
       "989506  80  >  36939 [PSH, ACK] Seq=2921 Ack=308 Win=6...  CS0  "
      ]
     },
     "execution_count": 4,
     "metadata": {},
     "output_type": "execute_result"
    }
   ],
   "source": [
    "df1.tail()"
   ]
  },
  {
   "cell_type": "code",
   "execution_count": 6,
   "metadata": {},
   "outputs": [
    {
     "data": {
      "text/plain": [
       "No.                 0\n",
       "Time                0\n",
       "Source         143284\n",
       "Destination    143284\n",
       "Protocol            0\n",
       "Length              0\n",
       "Info             1572\n",
       "RT              80041\n",
       "dtype: int64"
      ]
     },
     "execution_count": 6,
     "metadata": {},
     "output_type": "execute_result"
    }
   ],
   "source": [
    "df1.isna().sum()"
   ]
  },
  {
   "cell_type": "code",
   "execution_count": 7,
   "metadata": {},
   "outputs": [
    {
     "data": {
      "text/plain": [
       "No.            0\n",
       "Time           0\n",
       "Source         0\n",
       "Destination    0\n",
       "Protocol       0\n",
       "Length         0\n",
       "Info           0\n",
       "RT             0\n",
       "dtype: int64"
      ]
     },
     "execution_count": 7,
     "metadata": {},
     "output_type": "execute_result"
    }
   ],
   "source": [
    "df1_cleaned=df1.dropna()\n",
    "df1_cleaned.isna().sum()"
   ]
  },
  {
   "cell_type": "code",
   "execution_count": 8,
   "metadata": {},
   "outputs": [
    {
     "data": {
      "text/plain": [
       "844643"
      ]
     },
     "execution_count": 8,
     "metadata": {},
     "output_type": "execute_result"
    }
   ],
   "source": [
    "len(df1_cleaned)"
   ]
  },
  {
   "cell_type": "code",
   "execution_count": 16,
   "metadata": {},
   "outputs": [],
   "source": [
    "df1_sampled_mili= df1_cleaned[df1_cleaned['No.']%4==0]"
   ]
  },
  {
   "cell_type": "code",
   "execution_count": 17,
   "metadata": {},
   "outputs": [
    {
     "data": {
      "text/plain": [
       "211309"
      ]
     },
     "execution_count": 17,
     "metadata": {},
     "output_type": "execute_result"
    }
   ],
   "source": [
    "len(df1_sampled_mili)"
   ]
  },
  {
   "cell_type": "code",
   "execution_count": 20,
   "metadata": {},
   "outputs": [],
   "source": [
    "df2=pd.read_csv('pkt8_datarate.csv')"
   ]
  },
  {
   "cell_type": "code",
   "execution_count": 21,
   "metadata": {},
   "outputs": [
    {
     "data": {
      "text/html": [
       "<div>\n",
       "<style scoped>\n",
       "    .dataframe tbody tr th:only-of-type {\n",
       "        vertical-align: middle;\n",
       "    }\n",
       "\n",
       "    .dataframe tbody tr th {\n",
       "        vertical-align: top;\n",
       "    }\n",
       "\n",
       "    .dataframe thead th {\n",
       "        text-align: right;\n",
       "    }\n",
       "</style>\n",
       "<table border=\"1\" class=\"dataframe\">\n",
       "  <thead>\n",
       "    <tr style=\"text-align: right;\">\n",
       "      <th></th>\n",
       "      <th>Interval start</th>\n",
       "      <th>All Packets</th>\n",
       "    </tr>\n",
       "  </thead>\n",
       "  <tbody>\n",
       "    <tr>\n",
       "      <th>0</th>\n",
       "      <td>0.000</td>\n",
       "      <td>591</td>\n",
       "    </tr>\n",
       "    <tr>\n",
       "      <th>1</th>\n",
       "      <td>0.001</td>\n",
       "      <td>7833</td>\n",
       "    </tr>\n",
       "    <tr>\n",
       "      <th>2</th>\n",
       "      <td>0.002</td>\n",
       "      <td>1419</td>\n",
       "    </tr>\n",
       "    <tr>\n",
       "      <th>3</th>\n",
       "      <td>0.003</td>\n",
       "      <td>158</td>\n",
       "    </tr>\n",
       "    <tr>\n",
       "      <th>4</th>\n",
       "      <td>0.004</td>\n",
       "      <td>139</td>\n",
       "    </tr>\n",
       "  </tbody>\n",
       "</table>\n",
       "</div>"
      ],
      "text/plain": [
       "   Interval start  All Packets\n",
       "0           0.000          591\n",
       "1           0.001         7833\n",
       "2           0.002         1419\n",
       "3           0.003          158\n",
       "4           0.004          139"
      ]
     },
     "execution_count": 21,
     "metadata": {},
     "output_type": "execute_result"
    }
   ],
   "source": [
    "df2.head()"
   ]
  },
  {
   "cell_type": "code",
   "execution_count": 22,
   "metadata": {},
   "outputs": [
    {
     "data": {
      "text/html": [
       "<div>\n",
       "<style scoped>\n",
       "    .dataframe tbody tr th:only-of-type {\n",
       "        vertical-align: middle;\n",
       "    }\n",
       "\n",
       "    .dataframe tbody tr th {\n",
       "        vertical-align: top;\n",
       "    }\n",
       "\n",
       "    .dataframe thead th {\n",
       "        text-align: right;\n",
       "    }\n",
       "</style>\n",
       "<table border=\"1\" class=\"dataframe\">\n",
       "  <thead>\n",
       "    <tr style=\"text-align: right;\">\n",
       "      <th></th>\n",
       "      <th>Interval start</th>\n",
       "      <th>All Packets</th>\n",
       "    </tr>\n",
       "  </thead>\n",
       "  <tbody>\n",
       "    <tr>\n",
       "      <th>233282</th>\n",
       "      <td>233.282</td>\n",
       "      <td>1790</td>\n",
       "    </tr>\n",
       "    <tr>\n",
       "      <th>233283</th>\n",
       "      <td>233.283</td>\n",
       "      <td>913</td>\n",
       "    </tr>\n",
       "    <tr>\n",
       "      <th>233284</th>\n",
       "      <td>233.284</td>\n",
       "      <td>334</td>\n",
       "    </tr>\n",
       "    <tr>\n",
       "      <th>233285</th>\n",
       "      <td>233.285</td>\n",
       "      <td>446</td>\n",
       "    </tr>\n",
       "    <tr>\n",
       "      <th>233286</th>\n",
       "      <td>233.286</td>\n",
       "      <td>6634</td>\n",
       "    </tr>\n",
       "  </tbody>\n",
       "</table>\n",
       "</div>"
      ],
      "text/plain": [
       "        Interval start  All Packets\n",
       "233282         233.282         1790\n",
       "233283         233.283          913\n",
       "233284         233.284          334\n",
       "233285         233.285          446\n",
       "233286         233.286         6634"
      ]
     },
     "execution_count": 22,
     "metadata": {},
     "output_type": "execute_result"
    }
   ],
   "source": [
    "df2.tail()"
   ]
  },
  {
   "cell_type": "code",
   "execution_count": 23,
   "metadata": {},
   "outputs": [
    {
     "data": {
      "text/plain": [
       "233287"
      ]
     },
     "execution_count": 23,
     "metadata": {},
     "output_type": "execute_result"
    }
   ],
   "source": [
    "len(df2)"
   ]
  },
  {
   "cell_type": "code",
   "execution_count": 24,
   "metadata": {},
   "outputs": [
    {
     "data": {
      "text/plain": [
       "Interval start    0\n",
       "All Packets       0\n",
       "dtype: int64"
      ]
     },
     "execution_count": 24,
     "metadata": {},
     "output_type": "execute_result"
    }
   ],
   "source": [
    "df2.isna().sum()"
   ]
  },
  {
   "cell_type": "code",
   "execution_count": 26,
   "metadata": {},
   "outputs": [],
   "source": [
    "df_merged=pd.merge_asof(df1_sampled_mili,df2,left_on='Time',right_on='Interval start',direction='backward')\n",
    "df_merged_1=df_merged[df_merged['Time']-df_merged['Interval start']<=0.0009]"
   ]
  },
  {
   "cell_type": "code",
   "execution_count": 28,
   "metadata": {},
   "outputs": [
    {
     "data": {
      "text/html": [
       "<div>\n",
       "<style scoped>\n",
       "    .dataframe tbody tr th:only-of-type {\n",
       "        vertical-align: middle;\n",
       "    }\n",
       "\n",
       "    .dataframe tbody tr th {\n",
       "        vertical-align: top;\n",
       "    }\n",
       "\n",
       "    .dataframe thead th {\n",
       "        text-align: right;\n",
       "    }\n",
       "</style>\n",
       "<table border=\"1\" class=\"dataframe\">\n",
       "  <thead>\n",
       "    <tr style=\"text-align: right;\">\n",
       "      <th></th>\n",
       "      <th>No.</th>\n",
       "      <th>Time</th>\n",
       "      <th>Source</th>\n",
       "      <th>Destination</th>\n",
       "      <th>Protocol</th>\n",
       "      <th>Length</th>\n",
       "      <th>Info</th>\n",
       "      <th>RT</th>\n",
       "      <th>Interval start</th>\n",
       "      <th>All Packets</th>\n",
       "    </tr>\n",
       "  </thead>\n",
       "  <tbody>\n",
       "    <tr>\n",
       "      <th>0</th>\n",
       "      <td>4</td>\n",
       "      <td>0.000824</td>\n",
       "      <td>1687.0</td>\n",
       "      <td>443.0</td>\n",
       "      <td>UDP</td>\n",
       "      <td>203</td>\n",
       "      <td>1687  &gt;  443 Len=50</td>\n",
       "      <td>CS0</td>\n",
       "      <td>0.000</td>\n",
       "      <td>591</td>\n",
       "    </tr>\n",
       "    <tr>\n",
       "      <th>1</th>\n",
       "      <td>8</td>\n",
       "      <td>0.001489</td>\n",
       "      <td>445.0</td>\n",
       "      <td>1803.0</td>\n",
       "      <td>NBSS</td>\n",
       "      <td>768</td>\n",
       "      <td>[TCP Previous segment not captured] NBSS Conti...</td>\n",
       "      <td>CS0</td>\n",
       "      <td>0.001</td>\n",
       "      <td>7833</td>\n",
       "    </tr>\n",
       "    <tr>\n",
       "      <th>3</th>\n",
       "      <td>20</td>\n",
       "      <td>0.006544</td>\n",
       "      <td>1803.0</td>\n",
       "      <td>445.0</td>\n",
       "      <td>TCP</td>\n",
       "      <td>70</td>\n",
       "      <td>[TCP Dup ACK 18#1] 1803  &gt;  445 [ACK] Seq=64 A...</td>\n",
       "      <td>CS0</td>\n",
       "      <td>0.006</td>\n",
       "      <td>225</td>\n",
       "    </tr>\n",
       "    <tr>\n",
       "      <th>4</th>\n",
       "      <td>24</td>\n",
       "      <td>0.008812</td>\n",
       "      <td>1803.0</td>\n",
       "      <td>445.0</td>\n",
       "      <td>NBSS</td>\n",
       "      <td>121</td>\n",
       "      <td>NBSS Continuation Message</td>\n",
       "      <td>CS0</td>\n",
       "      <td>0.008</td>\n",
       "      <td>388</td>\n",
       "    </tr>\n",
       "    <tr>\n",
       "      <th>5</th>\n",
       "      <td>28</td>\n",
       "      <td>0.009382</td>\n",
       "      <td>445.0</td>\n",
       "      <td>1803.0</td>\n",
       "      <td>NBSS</td>\n",
       "      <td>768</td>\n",
       "      <td>NBSS Continuation Message</td>\n",
       "      <td>CS0</td>\n",
       "      <td>0.009</td>\n",
       "      <td>9124</td>\n",
       "    </tr>\n",
       "  </tbody>\n",
       "</table>\n",
       "</div>"
      ],
      "text/plain": [
       "   No.      Time  Source Destination Protocol  Length  \\\n",
       "0    4  0.000824  1687.0       443.0      UDP     203   \n",
       "1    8  0.001489   445.0      1803.0     NBSS     768   \n",
       "3   20  0.006544  1803.0       445.0      TCP      70   \n",
       "4   24  0.008812  1803.0       445.0     NBSS     121   \n",
       "5   28  0.009382   445.0      1803.0     NBSS     768   \n",
       "\n",
       "                                                Info   RT  Interval start  \\\n",
       "0                                1687  >  443 Len=50  CS0           0.000   \n",
       "1  [TCP Previous segment not captured] NBSS Conti...  CS0           0.001   \n",
       "3  [TCP Dup ACK 18#1] 1803  >  445 [ACK] Seq=64 A...  CS0           0.006   \n",
       "4                          NBSS Continuation Message  CS0           0.008   \n",
       "5                          NBSS Continuation Message  CS0           0.009   \n",
       "\n",
       "   All Packets  \n",
       "0          591  \n",
       "1         7833  \n",
       "3          225  \n",
       "4          388  \n",
       "5         9124  "
      ]
     },
     "execution_count": 28,
     "metadata": {},
     "output_type": "execute_result"
    }
   ],
   "source": [
    "df_merged_1.head()"
   ]
  },
  {
   "cell_type": "code",
   "execution_count": 30,
   "metadata": {},
   "outputs": [],
   "source": [
    "df_merged_2=df_merged_1.drop(columns=['No.','Time','Info','RT','Interval start'])"
   ]
  },
  {
   "cell_type": "code",
   "execution_count": 32,
   "metadata": {},
   "outputs": [
    {
     "data": {
      "text/html": [
       "<div>\n",
       "<style scoped>\n",
       "    .dataframe tbody tr th:only-of-type {\n",
       "        vertical-align: middle;\n",
       "    }\n",
       "\n",
       "    .dataframe tbody tr th {\n",
       "        vertical-align: top;\n",
       "    }\n",
       "\n",
       "    .dataframe thead th {\n",
       "        text-align: right;\n",
       "    }\n",
       "</style>\n",
       "<table border=\"1\" class=\"dataframe\">\n",
       "  <thead>\n",
       "    <tr style=\"text-align: right;\">\n",
       "      <th></th>\n",
       "      <th>Source</th>\n",
       "      <th>Destination</th>\n",
       "      <th>Protocol</th>\n",
       "      <th>Length</th>\n",
       "      <th>All Packets</th>\n",
       "    </tr>\n",
       "  </thead>\n",
       "  <tbody>\n",
       "    <tr>\n",
       "      <th>0</th>\n",
       "      <td>1687.0</td>\n",
       "      <td>443.0</td>\n",
       "      <td>UDP</td>\n",
       "      <td>203</td>\n",
       "      <td>591</td>\n",
       "    </tr>\n",
       "    <tr>\n",
       "      <th>1</th>\n",
       "      <td>445.0</td>\n",
       "      <td>1803.0</td>\n",
       "      <td>NBSS</td>\n",
       "      <td>768</td>\n",
       "      <td>7833</td>\n",
       "    </tr>\n",
       "    <tr>\n",
       "      <th>3</th>\n",
       "      <td>1803.0</td>\n",
       "      <td>445.0</td>\n",
       "      <td>TCP</td>\n",
       "      <td>70</td>\n",
       "      <td>225</td>\n",
       "    </tr>\n",
       "    <tr>\n",
       "      <th>4</th>\n",
       "      <td>1803.0</td>\n",
       "      <td>445.0</td>\n",
       "      <td>NBSS</td>\n",
       "      <td>121</td>\n",
       "      <td>388</td>\n",
       "    </tr>\n",
       "    <tr>\n",
       "      <th>5</th>\n",
       "      <td>445.0</td>\n",
       "      <td>1803.0</td>\n",
       "      <td>NBSS</td>\n",
       "      <td>768</td>\n",
       "      <td>9124</td>\n",
       "    </tr>\n",
       "  </tbody>\n",
       "</table>\n",
       "</div>"
      ],
      "text/plain": [
       "   Source Destination Protocol  Length  All Packets\n",
       "0  1687.0       443.0      UDP     203          591\n",
       "1   445.0      1803.0     NBSS     768         7833\n",
       "3  1803.0       445.0      TCP      70          225\n",
       "4  1803.0       445.0     NBSS     121          388\n",
       "5   445.0      1803.0     NBSS     768         9124"
      ]
     },
     "execution_count": 32,
     "metadata": {},
     "output_type": "execute_result"
    }
   ],
   "source": [
    "df_merged_2.head()"
   ]
  },
  {
   "cell_type": "code",
   "execution_count": 33,
   "metadata": {},
   "outputs": [
    {
     "data": {
      "text/plain": [
       "190216"
      ]
     },
     "execution_count": 33,
     "metadata": {},
     "output_type": "execute_result"
    }
   ],
   "source": [
    "len(df_merged_2)"
   ]
  },
  {
   "cell_type": "code",
   "execution_count": 34,
   "metadata": {},
   "outputs": [
    {
     "data": {
      "text/plain": [
       "Source         0\n",
       "Destination    0\n",
       "Protocol       0\n",
       "Length         0\n",
       "All Packets    0\n",
       "dtype: int64"
      ]
     },
     "execution_count": 34,
     "metadata": {},
     "output_type": "execute_result"
    }
   ],
   "source": [
    "df_merged_2.isna().sum()"
   ]
  },
  {
   "cell_type": "code",
   "execution_count": 35,
   "metadata": {},
   "outputs": [],
   "source": [
    "df_merged_2.to_csv('filtered_joined_packet_data.csv')"
   ]
  },
  {
   "cell_type": "code",
   "execution_count": 37,
   "metadata": {},
   "outputs": [
    {
     "name": "stdout",
     "output_type": "stream",
     "text": [
      "['UDP' 'NBSS' 'TCP' 'LLC' 'NBNS' 'DNS' 'SSL' 'Syslog' 'NTP' 'SSH' 'TELNET'\n",
      " 'BOOTP' 'NBDS' 'Gryphon' 'DSI' 'UDPENCAP' 'ICMP' 'LLMNR' 'MDNS' 'RIP'\n",
      " 'TCP/MIKEY' 'SMTP' 'PPTP' 'LPD' 'SAMETIME' 'FTP' 'DHCPv6'] 27\n"
     ]
    }
   ],
   "source": [
    "unique_values=df_merged_2['Protocol'].unique()\n",
    "num_unique_values=df_merged_2['Protocol'].nunique()\n",
    "\n",
    "print(str(unique_values) + ' ' +str(num_unique_values))"
   ]
  },
  {
   "cell_type": "code",
   "execution_count": 42,
   "metadata": {},
   "outputs": [],
   "source": [
    "''' \n",
    "UDP - 17\n",
    "NBSS - TCP\n",
    "TCP - 6\n",
    "LLC - UDP\n",
    "NBNS - UDP\n",
    "DNS - TCP\n",
    "SSL - TCP\n",
    "syslog - udp\n",
    "ntp - udp\n",
    "ssh - tcp\n",
    "telnet - tcp\n",
    "bootp - udp\n",
    "nbds - udp\n",
    "gryphon - tcp\n",
    "dsi - tcp\n",
    "udpencap - udp\n",
    "icmp - 1\n",
    "llmnr - tcp\n",
    "mdns - tcp\n",
    "rip - tcp\n",
    "TCP/MIKEY - tcp\n",
    "SMTP - tcp\n",
    "PPTP - tcp\n",
    "LPD - tcp\n",
    "SAMETIME - tcp\n",
    "FTP - tcp\n",
    "DHCPv6 - udp\n",
    "'''\n",
    "\n",
    "tcp_list = ['NBSS','DNS','SSL','SSH','TELNET','Gryphon','DSI','LLMNR','MDNS','RIP','TCP/MIKEY','SMTP','PPTP','LPD','SAMETIME','FTP']\n",
    "udp_list=['LLC','NBNS','Syslog','NTP','BOOTP','NBDS','UDPENCAP','DHCPv6']\n",
    "def replace_protocol(value):\n",
    "    if value in tcp_list:\n",
    "        return \"TCP\"\n",
    "    elif value in udp_list:\n",
    "        return \"UDP\"\n",
    "    else:\n",
    "        return value\n",
    "df_merged_3=df_merged_2\n",
    "df_merged_3['Protocol']=df_merged_2['Protocol'].apply(replace_protocol)\n",
    "\n",
    "\n"
   ]
  },
  {
   "cell_type": "code",
   "execution_count": 43,
   "metadata": {},
   "outputs": [
    {
     "data": {
      "text/html": [
       "<div>\n",
       "<style scoped>\n",
       "    .dataframe tbody tr th:only-of-type {\n",
       "        vertical-align: middle;\n",
       "    }\n",
       "\n",
       "    .dataframe tbody tr th {\n",
       "        vertical-align: top;\n",
       "    }\n",
       "\n",
       "    .dataframe thead th {\n",
       "        text-align: right;\n",
       "    }\n",
       "</style>\n",
       "<table border=\"1\" class=\"dataframe\">\n",
       "  <thead>\n",
       "    <tr style=\"text-align: right;\">\n",
       "      <th></th>\n",
       "      <th>Source</th>\n",
       "      <th>Destination</th>\n",
       "      <th>Protocol</th>\n",
       "      <th>Length</th>\n",
       "      <th>All Packets</th>\n",
       "    </tr>\n",
       "  </thead>\n",
       "  <tbody>\n",
       "    <tr>\n",
       "      <th>0</th>\n",
       "      <td>1687.0</td>\n",
       "      <td>443.0</td>\n",
       "      <td>UDP</td>\n",
       "      <td>203</td>\n",
       "      <td>591</td>\n",
       "    </tr>\n",
       "    <tr>\n",
       "      <th>1</th>\n",
       "      <td>445.0</td>\n",
       "      <td>1803.0</td>\n",
       "      <td>TCP</td>\n",
       "      <td>768</td>\n",
       "      <td>7833</td>\n",
       "    </tr>\n",
       "    <tr>\n",
       "      <th>3</th>\n",
       "      <td>1803.0</td>\n",
       "      <td>445.0</td>\n",
       "      <td>TCP</td>\n",
       "      <td>70</td>\n",
       "      <td>225</td>\n",
       "    </tr>\n",
       "    <tr>\n",
       "      <th>4</th>\n",
       "      <td>1803.0</td>\n",
       "      <td>445.0</td>\n",
       "      <td>TCP</td>\n",
       "      <td>121</td>\n",
       "      <td>388</td>\n",
       "    </tr>\n",
       "    <tr>\n",
       "      <th>5</th>\n",
       "      <td>445.0</td>\n",
       "      <td>1803.0</td>\n",
       "      <td>TCP</td>\n",
       "      <td>768</td>\n",
       "      <td>9124</td>\n",
       "    </tr>\n",
       "  </tbody>\n",
       "</table>\n",
       "</div>"
      ],
      "text/plain": [
       "   Source Destination Protocol  Length  All Packets\n",
       "0  1687.0       443.0      UDP     203          591\n",
       "1   445.0      1803.0      TCP     768         7833\n",
       "3  1803.0       445.0      TCP      70          225\n",
       "4  1803.0       445.0      TCP     121          388\n",
       "5   445.0      1803.0      TCP     768         9124"
      ]
     },
     "execution_count": 43,
     "metadata": {},
     "output_type": "execute_result"
    }
   ],
   "source": [
    "df_merged_3.head()"
   ]
  },
  {
   "cell_type": "code",
   "execution_count": 44,
   "metadata": {},
   "outputs": [
    {
     "name": "stdout",
     "output_type": "stream",
     "text": [
      "['UDP' 'TCP' 'ICMP'] 3\n"
     ]
    }
   ],
   "source": [
    "\n",
    "unique_values=df_merged_3['Protocol'].unique()\n",
    "num_unique_values=df_merged_3['Protocol'].nunique()\n",
    "\n",
    "print(str(unique_values) + ' ' +str(num_unique_values))"
   ]
  },
  {
   "cell_type": "code",
   "execution_count": 45,
   "metadata": {},
   "outputs": [],
   "source": [
    "df_merged_3.to_csv('filtered_joined_packet_data.csv')"
   ]
  },
  {
   "cell_type": "code",
   "execution_count": null,
   "metadata": {},
   "outputs": [],
   "source": []
  }
 ],
 "metadata": {
  "kernelspec": {
   "display_name": "base",
   "language": "python",
   "name": "python3"
  },
  "language_info": {
   "codemirror_mode": {
    "name": "ipython",
    "version": 3
   },
   "file_extension": ".py",
   "mimetype": "text/x-python",
   "name": "python",
   "nbconvert_exporter": "python",
   "pygments_lexer": "ipython3",
   "version": "3.11.5"
  }
 },
 "nbformat": 4,
 "nbformat_minor": 2
}
